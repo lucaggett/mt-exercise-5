{
 "cells": [
  {
   "cell_type": "code",
   "execution_count": 7,
   "metadata": {
    "collapsed": true,
    "ExecuteTime": {
     "end_time": "2023-05-31T11:25:55.761479Z",
     "start_time": "2023-05-31T11:25:55.758215Z"
    }
   },
   "outputs": [],
   "source": [
    "import os\n",
    "import spacy"
   ]
  },
  {
   "cell_type": "code",
   "execution_count": 3,
   "outputs": [
    {
     "name": "stdout",
     "output_type": "stream",
     "text": [
      "Collecting it-core-news-sm==3.5.0\n",
      "  Downloading https://github.com/explosion/spacy-models/releases/download/it_core_news_sm-3.5.0/it_core_news_sm-3.5.0-py3-none-any.whl (13.0 MB)\n",
      "\u001B[2K     ━━━━━━━━━━━━━━━━━━━━━━━━━━━━━━━━━━━━━━━━ 13.0/13.0 MB 12.7 MB/s eta 0:00:00\n",
      "\u001B[?25hRequirement already satisfied: spacy<3.6.0,>=3.5.0 in ./venvs/torch3/lib/python3.10/site-packages (from it-core-news-sm==3.5.0) (3.5.3)\n",
      "Requirement already satisfied: spacy-legacy<3.1.0,>=3.0.11 in ./venvs/torch3/lib/python3.10/site-packages (from spacy<3.6.0,>=3.5.0->it-core-news-sm==3.5.0) (3.0.12)\n",
      "Requirement already satisfied: spacy-loggers<2.0.0,>=1.0.0 in ./venvs/torch3/lib/python3.10/site-packages (from spacy<3.6.0,>=3.5.0->it-core-news-sm==3.5.0) (1.0.4)\n",
      "Requirement already satisfied: murmurhash<1.1.0,>=0.28.0 in ./venvs/torch3/lib/python3.10/site-packages (from spacy<3.6.0,>=3.5.0->it-core-news-sm==3.5.0) (1.0.9)\n",
      "Requirement already satisfied: cymem<2.1.0,>=2.0.2 in ./venvs/torch3/lib/python3.10/site-packages (from spacy<3.6.0,>=3.5.0->it-core-news-sm==3.5.0) (2.0.7)\n",
      "Requirement already satisfied: preshed<3.1.0,>=3.0.2 in ./venvs/torch3/lib/python3.10/site-packages (from spacy<3.6.0,>=3.5.0->it-core-news-sm==3.5.0) (3.0.8)\n",
      "Requirement already satisfied: thinc<8.2.0,>=8.1.8 in ./venvs/torch3/lib/python3.10/site-packages (from spacy<3.6.0,>=3.5.0->it-core-news-sm==3.5.0) (8.1.10)\n",
      "Requirement already satisfied: wasabi<1.2.0,>=0.9.1 in ./venvs/torch3/lib/python3.10/site-packages (from spacy<3.6.0,>=3.5.0->it-core-news-sm==3.5.0) (1.1.1)\n",
      "Requirement already satisfied: srsly<3.0.0,>=2.4.3 in ./venvs/torch3/lib/python3.10/site-packages (from spacy<3.6.0,>=3.5.0->it-core-news-sm==3.5.0) (2.4.6)\n",
      "Requirement already satisfied: catalogue<2.1.0,>=2.0.6 in ./venvs/torch3/lib/python3.10/site-packages (from spacy<3.6.0,>=3.5.0->it-core-news-sm==3.5.0) (2.0.8)\n",
      "Requirement already satisfied: typer<0.8.0,>=0.3.0 in ./venvs/torch3/lib/python3.10/site-packages (from spacy<3.6.0,>=3.5.0->it-core-news-sm==3.5.0) (0.7.0)\n",
      "Requirement already satisfied: pathy>=0.10.0 in ./venvs/torch3/lib/python3.10/site-packages (from spacy<3.6.0,>=3.5.0->it-core-news-sm==3.5.0) (0.10.1)\n",
      "Requirement already satisfied: smart-open<7.0.0,>=5.2.1 in ./venvs/torch3/lib/python3.10/site-packages (from spacy<3.6.0,>=3.5.0->it-core-news-sm==3.5.0) (6.3.0)\n",
      "Requirement already satisfied: tqdm<5.0.0,>=4.38.0 in ./venvs/torch3/lib/python3.10/site-packages (from spacy<3.6.0,>=3.5.0->it-core-news-sm==3.5.0) (4.65.0)\n",
      "Requirement already satisfied: numpy>=1.15.0 in ./venvs/torch3/lib/python3.10/site-packages (from spacy<3.6.0,>=3.5.0->it-core-news-sm==3.5.0) (1.21.0)\n",
      "Requirement already satisfied: requests<3.0.0,>=2.13.0 in ./venvs/torch3/lib/python3.10/site-packages (from spacy<3.6.0,>=3.5.0->it-core-news-sm==3.5.0) (2.31.0)\n",
      "Requirement already satisfied: pydantic!=1.8,!=1.8.1,<1.11.0,>=1.7.4 in ./venvs/torch3/lib/python3.10/site-packages (from spacy<3.6.0,>=3.5.0->it-core-news-sm==3.5.0) (1.10.8)\n",
      "Requirement already satisfied: jinja2 in ./venvs/torch3/lib/python3.10/site-packages (from spacy<3.6.0,>=3.5.0->it-core-news-sm==3.5.0) (3.1.2)\n",
      "Requirement already satisfied: setuptools in ./venvs/torch3/lib/python3.10/site-packages (from spacy<3.6.0,>=3.5.0->it-core-news-sm==3.5.0) (59.5.0)\n",
      "Requirement already satisfied: packaging>=20.0 in ./venvs/torch3/lib/python3.10/site-packages (from spacy<3.6.0,>=3.5.0->it-core-news-sm==3.5.0) (23.1)\n",
      "Requirement already satisfied: langcodes<4.0.0,>=3.2.0 in ./venvs/torch3/lib/python3.10/site-packages (from spacy<3.6.0,>=3.5.0->it-core-news-sm==3.5.0) (3.3.0)\n",
      "Requirement already satisfied: typing-extensions>=4.2.0 in ./venvs/torch3/lib/python3.10/site-packages (from pydantic!=1.8,!=1.8.1,<1.11.0,>=1.7.4->spacy<3.6.0,>=3.5.0->it-core-news-sm==3.5.0) (4.6.2)\n",
      "Requirement already satisfied: charset-normalizer<4,>=2 in ./venvs/torch3/lib/python3.10/site-packages (from requests<3.0.0,>=2.13.0->spacy<3.6.0,>=3.5.0->it-core-news-sm==3.5.0) (3.1.0)\n",
      "Requirement already satisfied: idna<4,>=2.5 in ./venvs/torch3/lib/python3.10/site-packages (from requests<3.0.0,>=2.13.0->spacy<3.6.0,>=3.5.0->it-core-news-sm==3.5.0) (3.4)\n",
      "Requirement already satisfied: urllib3<3,>=1.21.1 in ./venvs/torch3/lib/python3.10/site-packages (from requests<3.0.0,>=2.13.0->spacy<3.6.0,>=3.5.0->it-core-news-sm==3.5.0) (1.26.16)\n",
      "Requirement already satisfied: certifi>=2017.4.17 in ./venvs/torch3/lib/python3.10/site-packages (from requests<3.0.0,>=2.13.0->spacy<3.6.0,>=3.5.0->it-core-news-sm==3.5.0) (2023.5.7)\n",
      "Requirement already satisfied: blis<0.8.0,>=0.7.8 in ./venvs/torch3/lib/python3.10/site-packages (from thinc<8.2.0,>=8.1.8->spacy<3.6.0,>=3.5.0->it-core-news-sm==3.5.0) (0.7.9)\n",
      "Requirement already satisfied: confection<1.0.0,>=0.0.1 in ./venvs/torch3/lib/python3.10/site-packages (from thinc<8.2.0,>=8.1.8->spacy<3.6.0,>=3.5.0->it-core-news-sm==3.5.0) (0.0.4)\n",
      "Requirement already satisfied: click<9.0.0,>=7.1.1 in ./venvs/torch3/lib/python3.10/site-packages (from typer<0.8.0,>=0.3.0->spacy<3.6.0,>=3.5.0->it-core-news-sm==3.5.0) (8.1.3)\n",
      "Requirement already satisfied: MarkupSafe>=2.0 in ./venvs/torch3/lib/python3.10/site-packages (from jinja2->spacy<3.6.0,>=3.5.0->it-core-news-sm==3.5.0) (2.1.2)\n",
      "Installing collected packages: it-core-news-sm\n",
      "Successfully installed it-core-news-sm-3.5.0\n",
      "\u001B[38;5;2m✔ Download and installation successful\u001B[0m\n",
      "You can now load the package via spacy.load('it_core_news_sm')\n",
      "Collecting de-core-news-sm==3.5.0\n",
      "  Downloading https://github.com/explosion/spacy-models/releases/download/de_core_news_sm-3.5.0/de_core_news_sm-3.5.0-py3-none-any.whl (14.6 MB)\n",
      "\u001B[2K     ━━━━━━━━━━━━━━━━━━━━━━━━━━━━━━━━━━━━━━━━ 14.6/14.6 MB 13.3 MB/s eta 0:00:00\n",
      "\u001B[?25hRequirement already satisfied: spacy<3.6.0,>=3.5.0 in ./venvs/torch3/lib/python3.10/site-packages (from de-core-news-sm==3.5.0) (3.5.3)\n",
      "Requirement already satisfied: spacy-legacy<3.1.0,>=3.0.11 in ./venvs/torch3/lib/python3.10/site-packages (from spacy<3.6.0,>=3.5.0->de-core-news-sm==3.5.0) (3.0.12)\n",
      "Requirement already satisfied: spacy-loggers<2.0.0,>=1.0.0 in ./venvs/torch3/lib/python3.10/site-packages (from spacy<3.6.0,>=3.5.0->de-core-news-sm==3.5.0) (1.0.4)\n",
      "Requirement already satisfied: murmurhash<1.1.0,>=0.28.0 in ./venvs/torch3/lib/python3.10/site-packages (from spacy<3.6.0,>=3.5.0->de-core-news-sm==3.5.0) (1.0.9)\n",
      "Requirement already satisfied: cymem<2.1.0,>=2.0.2 in ./venvs/torch3/lib/python3.10/site-packages (from spacy<3.6.0,>=3.5.0->de-core-news-sm==3.5.0) (2.0.7)\n",
      "Requirement already satisfied: preshed<3.1.0,>=3.0.2 in ./venvs/torch3/lib/python3.10/site-packages (from spacy<3.6.0,>=3.5.0->de-core-news-sm==3.5.0) (3.0.8)\n",
      "Requirement already satisfied: thinc<8.2.0,>=8.1.8 in ./venvs/torch3/lib/python3.10/site-packages (from spacy<3.6.0,>=3.5.0->de-core-news-sm==3.5.0) (8.1.10)\n",
      "Requirement already satisfied: wasabi<1.2.0,>=0.9.1 in ./venvs/torch3/lib/python3.10/site-packages (from spacy<3.6.0,>=3.5.0->de-core-news-sm==3.5.0) (1.1.1)\n",
      "Requirement already satisfied: srsly<3.0.0,>=2.4.3 in ./venvs/torch3/lib/python3.10/site-packages (from spacy<3.6.0,>=3.5.0->de-core-news-sm==3.5.0) (2.4.6)\n",
      "Requirement already satisfied: catalogue<2.1.0,>=2.0.6 in ./venvs/torch3/lib/python3.10/site-packages (from spacy<3.6.0,>=3.5.0->de-core-news-sm==3.5.0) (2.0.8)\n",
      "Requirement already satisfied: typer<0.8.0,>=0.3.0 in ./venvs/torch3/lib/python3.10/site-packages (from spacy<3.6.0,>=3.5.0->de-core-news-sm==3.5.0) (0.7.0)\n",
      "Requirement already satisfied: pathy>=0.10.0 in ./venvs/torch3/lib/python3.10/site-packages (from spacy<3.6.0,>=3.5.0->de-core-news-sm==3.5.0) (0.10.1)\n",
      "Requirement already satisfied: smart-open<7.0.0,>=5.2.1 in ./venvs/torch3/lib/python3.10/site-packages (from spacy<3.6.0,>=3.5.0->de-core-news-sm==3.5.0) (6.3.0)\n",
      "Requirement already satisfied: tqdm<5.0.0,>=4.38.0 in ./venvs/torch3/lib/python3.10/site-packages (from spacy<3.6.0,>=3.5.0->de-core-news-sm==3.5.0) (4.65.0)\n",
      "Requirement already satisfied: numpy>=1.15.0 in ./venvs/torch3/lib/python3.10/site-packages (from spacy<3.6.0,>=3.5.0->de-core-news-sm==3.5.0) (1.21.0)\n",
      "Requirement already satisfied: requests<3.0.0,>=2.13.0 in ./venvs/torch3/lib/python3.10/site-packages (from spacy<3.6.0,>=3.5.0->de-core-news-sm==3.5.0) (2.31.0)\n",
      "Requirement already satisfied: pydantic!=1.8,!=1.8.1,<1.11.0,>=1.7.4 in ./venvs/torch3/lib/python3.10/site-packages (from spacy<3.6.0,>=3.5.0->de-core-news-sm==3.5.0) (1.10.8)\n",
      "Requirement already satisfied: jinja2 in ./venvs/torch3/lib/python3.10/site-packages (from spacy<3.6.0,>=3.5.0->de-core-news-sm==3.5.0) (3.1.2)\n",
      "Requirement already satisfied: setuptools in ./venvs/torch3/lib/python3.10/site-packages (from spacy<3.6.0,>=3.5.0->de-core-news-sm==3.5.0) (59.5.0)\n",
      "Requirement already satisfied: packaging>=20.0 in ./venvs/torch3/lib/python3.10/site-packages (from spacy<3.6.0,>=3.5.0->de-core-news-sm==3.5.0) (23.1)\n",
      "Requirement already satisfied: langcodes<4.0.0,>=3.2.0 in ./venvs/torch3/lib/python3.10/site-packages (from spacy<3.6.0,>=3.5.0->de-core-news-sm==3.5.0) (3.3.0)\n",
      "Requirement already satisfied: typing-extensions>=4.2.0 in ./venvs/torch3/lib/python3.10/site-packages (from pydantic!=1.8,!=1.8.1,<1.11.0,>=1.7.4->spacy<3.6.0,>=3.5.0->de-core-news-sm==3.5.0) (4.6.2)\n",
      "Requirement already satisfied: charset-normalizer<4,>=2 in ./venvs/torch3/lib/python3.10/site-packages (from requests<3.0.0,>=2.13.0->spacy<3.6.0,>=3.5.0->de-core-news-sm==3.5.0) (3.1.0)\n",
      "Requirement already satisfied: idna<4,>=2.5 in ./venvs/torch3/lib/python3.10/site-packages (from requests<3.0.0,>=2.13.0->spacy<3.6.0,>=3.5.0->de-core-news-sm==3.5.0) (3.4)\n",
      "Requirement already satisfied: urllib3<3,>=1.21.1 in ./venvs/torch3/lib/python3.10/site-packages (from requests<3.0.0,>=2.13.0->spacy<3.6.0,>=3.5.0->de-core-news-sm==3.5.0) (1.26.16)\n",
      "Requirement already satisfied: certifi>=2017.4.17 in ./venvs/torch3/lib/python3.10/site-packages (from requests<3.0.0,>=2.13.0->spacy<3.6.0,>=3.5.0->de-core-news-sm==3.5.0) (2023.5.7)\n",
      "Requirement already satisfied: blis<0.8.0,>=0.7.8 in ./venvs/torch3/lib/python3.10/site-packages (from thinc<8.2.0,>=8.1.8->spacy<3.6.0,>=3.5.0->de-core-news-sm==3.5.0) (0.7.9)\n",
      "Requirement already satisfied: confection<1.0.0,>=0.0.1 in ./venvs/torch3/lib/python3.10/site-packages (from thinc<8.2.0,>=8.1.8->spacy<3.6.0,>=3.5.0->de-core-news-sm==3.5.0) (0.0.4)\n",
      "Requirement already satisfied: click<9.0.0,>=7.1.1 in ./venvs/torch3/lib/python3.10/site-packages (from typer<0.8.0,>=0.3.0->spacy<3.6.0,>=3.5.0->de-core-news-sm==3.5.0) (8.1.3)\n",
      "Requirement already satisfied: MarkupSafe>=2.0 in ./venvs/torch3/lib/python3.10/site-packages (from jinja2->spacy<3.6.0,>=3.5.0->de-core-news-sm==3.5.0) (2.1.2)\n",
      "Installing collected packages: de-core-news-sm\n",
      "Successfully installed de-core-news-sm-3.5.0\n",
      "\u001B[38;5;2m✔ Download and installation successful\u001B[0m\n",
      "You can now load the package via spacy.load('de_core_news_sm')\n"
     ]
    }
   ],
   "source": [
    "# Download models if not already downloaded\n",
    "try:\n",
    "    # spacy setup for italian and german\n",
    "    nlp_it = spacy.load('it_core_news_sm')\n",
    "    nlp_de = spacy.load('de_core_news_sm')\n",
    "except OSError:\n",
    "    spacy.cli.download('it_core_news_sm')\n",
    "    spacy.cli.download('de_core_news_sm')\n",
    "    nlp_it = spacy.load('it_core_news_sm')\n",
    "    nlp_de = spacy.load('de_core_news_sm')\n"
   ],
   "metadata": {
    "collapsed": false,
    "ExecuteTime": {
     "end_time": "2023-05-31T11:18:49.620212Z",
     "start_time": "2023-05-31T11:18:43.718585Z"
    }
   }
  },
  {
   "cell_type": "code",
   "execution_count": 10,
   "outputs": [
    {
     "name": "stdout",
     "output_type": "stream",
     "text": [
      "['dev.de-it.de', 'test.de-it.it', 'train.de-it.de.reduced', 'dev.de-it.it', 'test.de-it.de', 'train.de-it.it.reduced']\n"
     ]
    }
   ],
   "source": [
    "# Load data for italian and german\n",
    "# The data has already been split into train, test and dev\n",
    "# the files are found in data/raw, and are named in the following way:\\\n",
    "# {set}.de-it.{lang}\n",
    "# we use the reduced datasets (100000 sentences) for training, the files have .reduced at the end\n",
    "files = os.listdir('data/raw')\n",
    "files.remove(\"train.de-it.de\")\n",
    "files.remove(\"train.de-it.it\")\n",
    "print(files)\n",
    "\n",
    "# create the \"processed\" folder if it doesn't exist\n",
    "if not os.path.exists('data/processed'):\n",
    "    os.makedirs('data/processed')"
   ],
   "metadata": {
    "collapsed": false,
    "ExecuteTime": {
     "end_time": "2023-05-31T11:27:46.234166Z",
     "start_time": "2023-05-31T11:27:46.230853Z"
    }
   }
  },
  {
   "cell_type": "code",
   "execution_count": 12,
   "outputs": [
    {
     "name": "stdout",
     "output_type": "stream",
     "text": [
      "Tokenized dev.de-it.de, 923 lines\n",
      "Tokenized test.de-it.it, 1567 lines\n",
      "Tokenized train.de-it.de.reduced, 100000 lines\n",
      "Tokenized dev.de-it.it, 923 lines\n",
      "Tokenized test.de-it.de, 1567 lines\n",
      "Tokenized train.de-it.it.reduced, 100000 lines\n",
      "Saved dev.de-it.de.tokenized\n",
      "Saved test.de-it.it.tokenized\n",
      "Saved train.de-it.de.reduced.tokenized\n",
      "Saved dev.de-it.it.tokenized\n",
      "Saved test.de-it.de.tokenized\n",
      "Saved train.de-it.it.reduced.tokenized\n"
     ]
    }
   ],
   "source": [
    "# tokenize the data and save it in data/processed\n",
    "tokenized_data = {}\n",
    "for file in files:\n",
    "    with open('data/raw/' + file, 'r') as f:\n",
    "        lines = f.readlines()\n",
    "    lines = [line.strip() for line in lines]\n",
    "    if file.endswith('.de'):\n",
    "        nlp = nlp_de\n",
    "    else:\n",
    "        nlp = nlp_it\n",
    "    tokenized = [nlp(line) for line in lines]\n",
    "    tokenized_data[file] = tokenized\n",
    "    print(f\"Tokenized {file}, {len(tokenized)} lines\")\n",
    "\n",
    "# save the tokenized data\n",
    "for filename, data in tokenized_data.items():\n",
    "    with open('data/processed/' + filename + '.tokenized', 'w') as f:\n",
    "        for line in data:\n",
    "            f.write(' '.join([token.text for token in line]) + '\\n')\n",
    "    print(f\"Saved {filename}.tokenized\")"
   ],
   "metadata": {
    "collapsed": false,
    "ExecuteTime": {
     "end_time": "2023-05-31T11:46:24.699097Z",
     "start_time": "2023-05-31T11:32:13.514589Z"
    }
   }
  },
  {
   "cell_type": "code",
   "execution_count": null,
   "outputs": [],
   "source": [],
   "metadata": {
    "collapsed": false
   }
  }
 ],
 "metadata": {
  "kernelspec": {
   "display_name": "Python 3",
   "language": "python",
   "name": "python3"
  },
  "language_info": {
   "codemirror_mode": {
    "name": "ipython",
    "version": 2
   },
   "file_extension": ".py",
   "mimetype": "text/x-python",
   "name": "python",
   "nbconvert_exporter": "python",
   "pygments_lexer": "ipython2",
   "version": "2.7.6"
  }
 },
 "nbformat": 4,
 "nbformat_minor": 0
}
